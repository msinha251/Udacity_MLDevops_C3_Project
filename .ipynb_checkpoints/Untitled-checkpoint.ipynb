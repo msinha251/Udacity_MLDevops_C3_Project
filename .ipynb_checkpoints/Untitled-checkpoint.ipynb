{
 "cells": [
  {
   "cell_type": "code",
   "execution_count": 13,
   "id": "7dcdef5e",
   "metadata": {},
   "outputs": [
    {
     "name": "stdout",
     "output_type": "stream",
     "text": [
      "data_path:  {'load_data': {'name': 'data', 'path': 'data.csv', 'type': 'csv', 'delimiter': ',', 'header': True}}\n"
     ]
    }
   ],
   "source": [
    "import yaml\n",
    "\n",
    "yaml_path = 'params.yaml'\n",
    "\n",
    "#load variables from params.yaml\n",
    "def load_params(yaml_path):\n",
    "    with open(yaml_path, 'r') as f:\n",
    "        params = yaml.safe_load(f)\n",
    "    return params\n",
    "\n",
    "data_path = load_params(yaml_path)\n",
    "print('data_path: ', data_path)"
   ]
  },
  {
   "cell_type": "code",
   "execution_count": 14,
   "id": "39c4e769",
   "metadata": {},
   "outputs": [
    {
     "ename": "KeyError",
     "evalue": "0",
     "output_type": "error",
     "traceback": [
      "\u001b[0;31m---------------------------------------------------------------------------\u001b[0m",
      "\u001b[0;31mKeyError\u001b[0m                                  Traceback (most recent call last)",
      "Cell \u001b[0;32mIn [14], line 1\u001b[0m\n\u001b[0;32m----> 1\u001b[0m load_params(yaml_path)[\u001b[38;5;124m'\u001b[39m\u001b[38;5;124mload_data\u001b[39m\u001b[38;5;124m'\u001b[39m][\u001b[38;5;241m0\u001b[39m][\u001b[38;5;124m'\u001b[39m\u001b[38;5;124mname\u001b[39m\u001b[38;5;124m'\u001b[39m]\n",
      "\u001b[0;31mKeyError\u001b[0m: 0"
     ]
    }
   ],
   "source": [
    "load_params(yaml_path)['load_data']"
   ]
  },
  {
   "cell_type": "code",
   "execution_count": null,
   "id": "173bd7b8",
   "metadata": {},
   "outputs": [],
   "source": []
  }
 ],
 "metadata": {
  "kernelspec": {
   "display_name": "Python 3 (ipykernel)",
   "language": "python",
   "name": "python3"
  },
  "language_info": {
   "codemirror_mode": {
    "name": "ipython",
    "version": 3
   },
   "file_extension": ".py",
   "mimetype": "text/x-python",
   "name": "python",
   "nbconvert_exporter": "python",
   "pygments_lexer": "ipython3",
   "version": "3.8.13"
  }
 },
 "nbformat": 4,
 "nbformat_minor": 5
}
